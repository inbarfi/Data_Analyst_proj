{
 "cells": [
  {
   "cell_type": "code",
   "execution_count": 1,
   "metadata": {},
   "outputs": [
    {
     "data": {
      "text/plain": [
       "Index(['analyst_id', 'gender', 'age', 'data_analyzing', 'analyst_type',\n",
       "       'data_science', 'living_area', 'office_area', 'job_percentage',\n",
       "       'sallary', 'min_sallary Range', 'max_sallary Range', 'avg_sallary',\n",
       "       'equity', 'experience_years', 'manager', 'school_degree',\n",
       "       'course_taken', 'course_name', 'visualization_tool', 'using_sql',\n",
       "       'required_statistic_knowledge', 'predictive_models',\n",
       "       'wages_decrease_covid19', 'fired_covid19', 'company', 'startup_size'],\n",
       "      dtype='object')"
      ]
     },
     "execution_count": 1,
     "metadata": {},
     "output_type": "execute_result"
    }
   ],
   "source": [
    "import numpy as np\n",
    "import pandas as pd\n",
    "import matplotlib.pyplot as plt\n",
    "\n",
    "pd.set_option('display.max_rows', None)\n",
    "\n",
    "df = pd.read_csv('analysts_survey_1.1.csv')\n",
    "\n",
    "df.columns"
   ]
  },
  {
   "cell_type": "code",
   "execution_count": 2,
   "metadata": {},
   "outputs": [
    {
     "data": {
      "text/plain": [
       "0"
      ]
     },
     "execution_count": 2,
     "metadata": {},
     "output_type": "execute_result"
    }
   ],
   "source": [
    "#cleaning \n",
    "\n",
    "#drop \n",
    "df.dropna(axis=0, how=\"any\", thresh=None, subset=['avg_sallary'], inplace=True)\n",
    "df['avg_sallary'].isna().sum()\n",
    "\n",
    "df = df[df['job_percentage'] == 'Full-time']\n",
    "df['job_percentage'].isna().sum()\n",
    "\n",
    "df = df[df['data_analyzing'] == 'Yes']\n",
    "df['data_analyzing'].isna().sum()\n",
    "\n",
    "df.drop(df[df['company'] == 'IDF'].index, inplace=True)\n",
    "\n",
    "# drop the 1 na so i can use this field in the regression model\n",
    "df.dropna(axis=0, how=\"any\", thresh=None, subset=['course_taken'], inplace=True)\n",
    "df['course_taken'].isna().sum()\n",
    "\n",
    "df.dropna(axis=0, how=\"any\", thresh=None, subset=['equity'], inplace=True)\n",
    "df['equity'].isna().sum()"
   ]
  },
  {
   "cell_type": "code",
   "execution_count": 3,
   "metadata": {},
   "outputs": [],
   "source": [
    "#Adjusting data - changing text values to numbers\n",
    "df['gender'].replace(['Male', 'Female'], [0, 1], inplace=True)\n",
    "df['data_science'].replace(['No', 'Yes'], [0, 1], inplace=True)\n",
    "df['using_sql'].replace(['No', 'Yes'], [0, 1], inplace=True)\n",
    "df['predictive_models'].replace(['No', 'Yes'], [0, 1], inplace=True)\n",
    "df['wages_decrease_covid19'].replace(['No', 'Yes'], [0, 1], inplace=True)\n",
    "df['fired_covid19'].replace(['No', 'Yes'], [0, 1], inplace=True)\n",
    "df['equity'].replace(['No', 'Yes'], [0, 1], inplace=True)\n",
    "df['manager'].replace(['No', 'Yes'], [0, 1], inplace=True)\n",
    "df['course_taken'].replace(['No', 'Yes'], [0, 1], inplace=True)\n",
    "\n",
    "#required_statistic_knowledge\n",
    "df['required_statistic_knowledge'].replace(['No', 'Little', 'Medium', 'High'], [0, 1, 2, 3], inplace=True)"
   ]
  },
  {
   "cell_type": "code",
   "execution_count": 4,
   "metadata": {},
   "outputs": [
    {
     "data": {
      "text/html": [
       "<div>\n",
       "<style scoped>\n",
       "    .dataframe tbody tr th:only-of-type {\n",
       "        vertical-align: middle;\n",
       "    }\n",
       "\n",
       "    .dataframe tbody tr th {\n",
       "        vertical-align: top;\n",
       "    }\n",
       "\n",
       "    .dataframe thead th {\n",
       "        text-align: right;\n",
       "    }\n",
       "</style>\n",
       "<table border=\"1\" class=\"dataframe\">\n",
       "  <thead>\n",
       "    <tr style=\"text-align: right;\">\n",
       "      <th></th>\n",
       "      <th>age</th>\n",
       "    </tr>\n",
       "  </thead>\n",
       "  <tbody>\n",
       "    <tr>\n",
       "      <th>count</th>\n",
       "      <td>230.000000</td>\n",
       "    </tr>\n",
       "    <tr>\n",
       "      <th>mean</th>\n",
       "      <td>32.443478</td>\n",
       "    </tr>\n",
       "    <tr>\n",
       "      <th>std</th>\n",
       "      <td>4.904665</td>\n",
       "    </tr>\n",
       "    <tr>\n",
       "      <th>min</th>\n",
       "      <td>22.000000</td>\n",
       "    </tr>\n",
       "    <tr>\n",
       "      <th>25%</th>\n",
       "      <td>29.000000</td>\n",
       "    </tr>\n",
       "    <tr>\n",
       "      <th>50%</th>\n",
       "      <td>31.500000</td>\n",
       "    </tr>\n",
       "    <tr>\n",
       "      <th>75%</th>\n",
       "      <td>35.000000</td>\n",
       "    </tr>\n",
       "    <tr>\n",
       "      <th>max</th>\n",
       "      <td>49.000000</td>\n",
       "    </tr>\n",
       "  </tbody>\n",
       "</table>\n",
       "</div>"
      ],
      "text/plain": [
       "              age\n",
       "count  230.000000\n",
       "mean    32.443478\n",
       "std      4.904665\n",
       "min     22.000000\n",
       "25%     29.000000\n",
       "50%     31.500000\n",
       "75%     35.000000\n",
       "max     49.000000"
      ]
     },
     "execution_count": 4,
     "metadata": {},
     "output_type": "execute_result"
    }
   ],
   "source": [
    "# age - all\n",
    "df[['age']].describe()"
   ]
  },
  {
   "cell_type": "code",
   "execution_count": 5,
   "metadata": {},
   "outputs": [],
   "source": [
    "#df"
   ]
  },
  {
   "cell_type": "code",
   "execution_count": 6,
   "metadata": {},
   "outputs": [],
   "source": [
    "df1 = df[[\"living_area\", \"avg_sallary\", \"data_science\", \"office_area\", \"manager\", \"gender\", \"age\"]]\n",
    "#df1"
   ]
  },
  {
   "cell_type": "code",
   "execution_count": 7,
   "metadata": {},
   "outputs": [],
   "source": [
    "#avg. salary by living area\n",
    "#df1[\"avg_sallary\"].groupby([df1[\"data_science\"], df1[\"living_area\"]]).aggregate([np.average, np.median, max, np.std, np.count_nonzero])"
   ]
  },
  {
   "cell_type": "code",
   "execution_count": null,
   "metadata": {},
   "outputs": [],
   "source": [
    "#df1[\"avg_sallary\"].groupby([df1[\"data_science\"] , df1[\"office_area\"]]).aggregate([np.average, np.median, max, np.std, np.count_nonzero])"
   ]
  },
  {
   "cell_type": "code",
   "execution_count": null,
   "metadata": {},
   "outputs": [],
   "source": [
    "# managers\n",
    "#df1[\"avg_sallary\"].groupby([df1[\"data_science\"] , df1[\"manager\"], df1[\"office_area\"]]).aggregate([np.average, np.median, max, np.std, np.count_nonzero])"
   ]
  },
  {
   "cell_type": "code",
   "execution_count": null,
   "metadata": {},
   "outputs": [],
   "source": [
    "# managers gender\n",
    "#df1[\"avg_sallary\"].groupby([df1[\"gender\"], df1[\"data_science\"] , df1[\"manager\"], df1[\"office_area\"]]).aggregate([np.average, np.median, max, np.std, np.count_nonzero])"
   ]
  },
  {
   "cell_type": "code",
   "execution_count": null,
   "metadata": {},
   "outputs": [],
   "source": [
    "# Living area vs. office erea\n",
    "#df1[\"avg_sallary\"].groupby([df1[\"office_area\"], df1[\"living_area\"]]).aggregate([np.average, np.median, max, np.std, np.count_nonzero])"
   ]
  },
  {
   "cell_type": "code",
   "execution_count": 8,
   "metadata": {},
   "outputs": [
    {
     "data": {
      "text/plain": [
       "Text(0, 0.5, 'Avg Sallary')"
      ]
     },
     "execution_count": 8,
     "metadata": {},
     "output_type": "execute_result"
    },
    {
     "data": {
      "image/png": "[encoded data removed]",
      "text/plain": [
       "<Figure size 432x288 with 1 Axes>"
      ]
     },
     "metadata": {
      "needs_background": "light"
     },
     "output_type": "display_data"
    }
   ],
   "source": [
    "# Age - Salary with data scientists\n",
    "df1[\"age\"].groupby(df1[\"avg_sallary\"]).aggregate([np.average]).hist()\n",
    "plt.title('Avg Sallary / Age')\n",
    "plt.xlabel('Age')\n",
    "plt.ylabel('Avg Sallary')\n",
    "#plt.show()"
   ]
  },
  {
   "cell_type": "code",
   "execution_count": 10,
   "metadata": {},
   "outputs": [],
   "source": [
    "# df without data scientists\n",
    "df1_analysts = df1[df1['data_science'] == 0]\n",
    "#df1_analysts.describe()\n",
    "#df1_analysts[[\"age\", \"avg_sallary\"]]"
   ]
  },
  {
   "cell_type": "code",
   "execution_count": 11,
   "metadata": {},
   "outputs": [
    {
     "data": {
      "text/html": [
       "<div>\n",
       "<style scoped>\n",
       "    .dataframe tbody tr th:only-of-type {\n",
       "        vertical-align: middle;\n",
       "    }\n",
       "\n",
       "    .dataframe tbody tr th {\n",
       "        vertical-align: top;\n",
       "    }\n",
       "\n",
       "    .dataframe thead th {\n",
       "        text-align: right;\n",
       "    }\n",
       "</style>\n",
       "<table border=\"1\" class=\"dataframe\">\n",
       "  <thead>\n",
       "    <tr style=\"text-align: right;\">\n",
       "      <th></th>\n",
       "      <th>age</th>\n",
       "      <th>gender</th>\n",
       "    </tr>\n",
       "  </thead>\n",
       "  <tbody>\n",
       "    <tr>\n",
       "      <th>count</th>\n",
       "      <td>218.000000</td>\n",
       "      <td>218.000000</td>\n",
       "    </tr>\n",
       "    <tr>\n",
       "      <th>mean</th>\n",
       "      <td>32.334862</td>\n",
       "      <td>0.344037</td>\n",
       "    </tr>\n",
       "    <tr>\n",
       "      <th>std</th>\n",
       "      <td>4.828179</td>\n",
       "      <td>0.476146</td>\n",
       "    </tr>\n",
       "    <tr>\n",
       "      <th>min</th>\n",
       "      <td>22.000000</td>\n",
       "      <td>0.000000</td>\n",
       "    </tr>\n",
       "    <tr>\n",
       "      <th>25%</th>\n",
       "      <td>29.000000</td>\n",
       "      <td>0.000000</td>\n",
       "    </tr>\n",
       "    <tr>\n",
       "      <th>50%</th>\n",
       "      <td>31.000000</td>\n",
       "      <td>0.000000</td>\n",
       "    </tr>\n",
       "    <tr>\n",
       "      <th>75%</th>\n",
       "      <td>35.000000</td>\n",
       "      <td>1.000000</td>\n",
       "    </tr>\n",
       "    <tr>\n",
       "      <th>max</th>\n",
       "      <td>49.000000</td>\n",
       "      <td>1.000000</td>\n",
       "    </tr>\n",
       "  </tbody>\n",
       "</table>\n",
       "</div>"
      ],
      "text/plain": [
       "              age      gender\n",
       "count  218.000000  218.000000\n",
       "mean    32.334862    0.344037\n",
       "std      4.828179    0.476146\n",
       "min     22.000000    0.000000\n",
       "25%     29.000000    0.000000\n",
       "50%     31.000000    0.000000\n",
       "75%     35.000000    1.000000\n",
       "max     49.000000    1.000000"
      ]
     },
     "execution_count": 11,
     "metadata": {},
     "output_type": "execute_result"
    }
   ],
   "source": [
    "# age - only analysts\n",
    "df1_analysts[['age', 'gender']].describe()"
   ]
  },
  {
   "cell_type": "code",
   "execution_count": 14,
   "metadata": {},
   "outputs": [
    {
     "data": {
      "text/html": [
       "<div>\n",
       "<style scoped>\n",
       "    .dataframe tbody tr th:only-of-type {\n",
       "        vertical-align: middle;\n",
       "    }\n",
       "\n",
       "    .dataframe tbody tr th {\n",
       "        vertical-align: top;\n",
       "    }\n",
       "\n",
       "    .dataframe thead th {\n",
       "        text-align: right;\n",
       "    }\n",
       "</style>\n",
       "<table border=\"1\" class=\"dataframe\">\n",
       "  <thead>\n",
       "    <tr style=\"text-align: right;\">\n",
       "      <th></th>\n",
       "      <th>average</th>\n",
       "      <th>median</th>\n",
       "      <th>max</th>\n",
       "      <th>std</th>\n",
       "      <th>count_nonzero</th>\n",
       "    </tr>\n",
       "    <tr>\n",
       "      <th>gender</th>\n",
       "      <th></th>\n",
       "      <th></th>\n",
       "      <th></th>\n",
       "      <th></th>\n",
       "      <th></th>\n",
       "    </tr>\n",
       "  </thead>\n",
       "  <tbody>\n",
       "    <tr>\n",
       "      <th>0</th>\n",
       "      <td>32.30</td>\n",
       "      <td>31</td>\n",
       "      <td>49</td>\n",
       "      <td>4.78</td>\n",
       "      <td>143</td>\n",
       "    </tr>\n",
       "    <tr>\n",
       "      <th>1</th>\n",
       "      <td>32.40</td>\n",
       "      <td>32</td>\n",
       "      <td>48</td>\n",
       "      <td>4.94</td>\n",
       "      <td>75</td>\n",
       "    </tr>\n",
       "  </tbody>\n",
       "</table>\n",
       "</div>"
      ],
      "text/plain": [
       "        average  median  max  std  count_nonzero\n",
       "gender                                          \n",
       "0         32.30      31   49 4.78            143\n",
       "1         32.40      32   48 4.94             75"
      ]
     },
     "execution_count": 14,
     "metadata": {},
     "output_type": "execute_result"
    }
   ],
   "source": [
    "#Gender\n",
    "#df[['gender']].describe() # 155 males, 84 females\n",
    "\n",
    "# Gender / Age\n",
    "df1_analysts[\"age\"].groupby(df1_analysts[\"gender\"]).aggregate([np.average, np.median, max, np.std, np.count_nonzero])\n",
    "\n",
    "\n",
    "#df = df.groupby('gender')['avg_sallary'].mean().reset_index()"
   ]
  },
  {
   "cell_type": "code",
   "execution_count": null,
   "metadata": {},
   "outputs": [],
   "source": [
    "#df"
   ]
  },
  {
   "cell_type": "code",
   "execution_count": null,
   "metadata": {},
   "outputs": [],
   "source": [
    "#analysts - age / avg.salary by gender\n",
    "\n",
    "\n",
    "#df1_analysts[\"avg_sallary\"].groupby([df1[\"gender\"], df1[\"age\"]]).aggregate([np.average, np.median, max, np.std, np.count_nonzero])"
   ]
  },
  {
   "cell_type": "code",
   "execution_count": null,
   "metadata": {},
   "outputs": [],
   "source": []
  }
 ],
 "metadata": {
  "kernelspec": {
   "display_name": "Python 3",
   "language": "python",
   "name": "python3"
  },
  "language_info": {
   "codemirror_mode": {
    "name": "ipython",
    "version": 3
   },
   "file_extension": ".py",
   "mimetype": "text/x-python",
   "name": "python",
   "nbconvert_exporter": "python",
   "pygments_lexer": "ipython3",
   "version": "3.8.5"
  }
 },
 "nbformat": 4,
 "nbformat_minor": 4
}
