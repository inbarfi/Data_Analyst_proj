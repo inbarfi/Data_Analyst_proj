{
 "cells": [
  {
   "cell_type": "code",
   "execution_count": 1,
   "metadata": {},
   "outputs": [
    {
     "data": {
      "text/plain": [
       "Index(['analyst_id', 'gender', 'age', 'data_analyzing', 'analyst_type',\n",
       "       'data_science', 'living_area', 'office_area', 'job_percentage',\n",
       "       'sallary', 'min_sallary Range', 'max_sallary Range', 'avg_sallary',\n",
       "       'equity', 'experience_years', 'manager', 'school_degree',\n",
       "       'course_taken', 'course_name', 'visualization_tool', 'using_sql',\n",
       "       'required_statistic_knowledge', 'predictive_models',\n",
       "       'wages_decrease_covid19', 'fired_covid19', 'company', 'startup_size'],\n",
       "      dtype='object')"
      ]
     },
     "execution_count": 1,
     "metadata": {},
     "output_type": "execute_result"
    }
   ],
   "source": [
    "import numpy as np\n",
    "import pandas as pd\n",
    "import matplotlib.pyplot as plt\n",
    "\n",
    "df = pd.read_csv('analysts_survey_1.1.csv')\n",
    "pd.set_option('display.max_rows', None)\n",
    "\n",
    "df.columns"
   ]
  },
  {
   "cell_type": "code",
   "execution_count": 2,
   "metadata": {},
   "outputs": [
    {
     "data": {
      "text/html": [
       "<div>\n",
       "<style scoped>\n",
       "    .dataframe tbody tr th:only-of-type {\n",
       "        vertical-align: middle;\n",
       "    }\n",
       "\n",
       "    .dataframe tbody tr th {\n",
       "        vertical-align: top;\n",
       "    }\n",
       "\n",
       "    .dataframe thead th {\n",
       "        text-align: right;\n",
       "    }\n",
       "</style>\n",
       "<table border=\"1\" class=\"dataframe\">\n",
       "  <thead>\n",
       "    <tr style=\"text-align: right;\">\n",
       "      <th></th>\n",
       "      <th>analyst_id</th>\n",
       "      <th>age</th>\n",
       "      <th>min_sallary Range</th>\n",
       "      <th>max_sallary Range</th>\n",
       "      <th>avg_sallary</th>\n",
       "      <th>experience_years</th>\n",
       "    </tr>\n",
       "  </thead>\n",
       "  <tbody>\n",
       "    <tr>\n",
       "      <th>count</th>\n",
       "      <td>298.000000</td>\n",
       "      <td>298.000000</td>\n",
       "      <td>262.000000</td>\n",
       "      <td>262.000000</td>\n",
       "      <td>260.000000</td>\n",
       "      <td>290.000000</td>\n",
       "    </tr>\n",
       "    <tr>\n",
       "      <th>mean</th>\n",
       "      <td>149.500000</td>\n",
       "      <td>32.127517</td>\n",
       "      <td>18.320611</td>\n",
       "      <td>20.664122</td>\n",
       "      <td>19.503846</td>\n",
       "      <td>4.231034</td>\n",
       "    </tr>\n",
       "    <tr>\n",
       "      <th>std</th>\n",
       "      <td>86.169407</td>\n",
       "      <td>6.012656</td>\n",
       "      <td>7.308492</td>\n",
       "      <td>7.291533</td>\n",
       "      <td>7.182937</td>\n",
       "      <td>3.718243</td>\n",
       "    </tr>\n",
       "    <tr>\n",
       "      <th>min</th>\n",
       "      <td>1.000000</td>\n",
       "      <td>19.000000</td>\n",
       "      <td>0.000000</td>\n",
       "      <td>5.000000</td>\n",
       "      <td>3.000000</td>\n",
       "      <td>0.000000</td>\n",
       "    </tr>\n",
       "    <tr>\n",
       "      <th>25%</th>\n",
       "      <td>75.250000</td>\n",
       "      <td>28.000000</td>\n",
       "      <td>13.000000</td>\n",
       "      <td>15.000000</td>\n",
       "      <td>14.000000</td>\n",
       "      <td>2.000000</td>\n",
       "    </tr>\n",
       "    <tr>\n",
       "      <th>50%</th>\n",
       "      <td>149.500000</td>\n",
       "      <td>31.000000</td>\n",
       "      <td>16.500000</td>\n",
       "      <td>19.000000</td>\n",
       "      <td>17.000000</td>\n",
       "      <td>3.000000</td>\n",
       "    </tr>\n",
       "    <tr>\n",
       "      <th>75%</th>\n",
       "      <td>223.750000</td>\n",
       "      <td>35.000000</td>\n",
       "      <td>23.000000</td>\n",
       "      <td>25.000000</td>\n",
       "      <td>20.250000</td>\n",
       "      <td>5.000000</td>\n",
       "    </tr>\n",
       "    <tr>\n",
       "      <th>max</th>\n",
       "      <td>298.000000</td>\n",
       "      <td>62.000000</td>\n",
       "      <td>40.000000</td>\n",
       "      <td>40.000000</td>\n",
       "      <td>40.000000</td>\n",
       "      <td>21.000000</td>\n",
       "    </tr>\n",
       "  </tbody>\n",
       "</table>\n",
       "</div>"
      ],
      "text/plain": [
       "       analyst_id         age  min_sallary Range  max_sallary Range  \\\n",
       "count  298.000000  298.000000         262.000000         262.000000   \n",
       "mean   149.500000   32.127517          18.320611          20.664122   \n",
       "std     86.169407    6.012656           7.308492           7.291533   \n",
       "min      1.000000   19.000000           0.000000           5.000000   \n",
       "25%     75.250000   28.000000          13.000000          15.000000   \n",
       "50%    149.500000   31.000000          16.500000          19.000000   \n",
       "75%    223.750000   35.000000          23.000000          25.000000   \n",
       "max    298.000000   62.000000          40.000000          40.000000   \n",
       "\n",
       "       avg_sallary  experience_years  \n",
       "count   260.000000        290.000000  \n",
       "mean     19.503846          4.231034  \n",
       "std       7.182937          3.718243  \n",
       "min       3.000000          0.000000  \n",
       "25%      14.000000          2.000000  \n",
       "50%      17.000000          3.000000  \n",
       "75%      20.250000          5.000000  \n",
       "max      40.000000         21.000000  "
      ]
     },
     "execution_count": 2,
     "metadata": {},
     "output_type": "execute_result"
    }
   ],
   "source": [
    "df.describe() #starting with 298 answers"
   ]
  },
  {
   "cell_type": "code",
   "execution_count": 3,
   "metadata": {},
   "outputs": [
    {
     "data": {
      "text/plain": [
       "0"
      ]
     },
     "execution_count": 3,
     "metadata": {},
     "output_type": "execute_result"
    }
   ],
   "source": [
    "#cleaning \n",
    "\n",
    "#drop \n",
    "df.dropna(axis=0, how=\"any\", thresh=None, subset=['avg_sallary'], inplace=True)\n",
    "df['avg_sallary'].isna().sum()\n",
    "\n",
    "#select relvant values\n",
    "df = df[df['job_percentage'] == 'Full-time']\n",
    "df['job_percentage'].isna().sum()\n",
    "\n",
    "df = df[df['data_analyzing'] == 'Yes']\n",
    "df['data_analyzing'].isna().sum()\n",
    "\n",
    "df.drop(df[df['company'] == 'IDF'].index, inplace=True)\n",
    "\n",
    "# drop the 1 na so i can use this field in the regression model\n",
    "df.dropna(axis=0, how=\"any\", thresh=None, subset=['course_taken'], inplace=True)\n",
    "df['course_taken'].isna().sum()\n",
    "\n",
    "df.dropna(axis=0, how=\"any\", thresh=None, subset=['equity'], inplace=True)\n",
    "df['equity'].isna().sum()"
   ]
  },
  {
   "cell_type": "code",
   "execution_count": 4,
   "metadata": {},
   "outputs": [
    {
     "data": {
      "text/html": [
       "<div>\n",
       "<style scoped>\n",
       "    .dataframe tbody tr th:only-of-type {\n",
       "        vertical-align: middle;\n",
       "    }\n",
       "\n",
       "    .dataframe tbody tr th {\n",
       "        vertical-align: top;\n",
       "    }\n",
       "\n",
       "    .dataframe thead th {\n",
       "        text-align: right;\n",
       "    }\n",
       "</style>\n",
       "<table border=\"1\" class=\"dataframe\">\n",
       "  <thead>\n",
       "    <tr style=\"text-align: right;\">\n",
       "      <th></th>\n",
       "      <th>analyst_id</th>\n",
       "      <th>age</th>\n",
       "      <th>min_sallary Range</th>\n",
       "      <th>max_sallary Range</th>\n",
       "      <th>avg_sallary</th>\n",
       "      <th>experience_years</th>\n",
       "    </tr>\n",
       "  </thead>\n",
       "  <tbody>\n",
       "    <tr>\n",
       "      <th>count</th>\n",
       "      <td>230.000000</td>\n",
       "      <td>230.000000</td>\n",
       "      <td>230.000000</td>\n",
       "      <td>230.000000</td>\n",
       "      <td>230.000000</td>\n",
       "      <td>230.000000</td>\n",
       "    </tr>\n",
       "    <tr>\n",
       "      <th>mean</th>\n",
       "      <td>151.843478</td>\n",
       "      <td>32.443478</td>\n",
       "      <td>18.952174</td>\n",
       "      <td>21.282609</td>\n",
       "      <td>20.291304</td>\n",
       "      <td>4.426087</td>\n",
       "    </tr>\n",
       "    <tr>\n",
       "      <th>std</th>\n",
       "      <td>87.923209</td>\n",
       "      <td>4.904665</td>\n",
       "      <td>6.821003</td>\n",
       "      <td>6.983021</td>\n",
       "      <td>7.007009</td>\n",
       "      <td>3.682985</td>\n",
       "    </tr>\n",
       "    <tr>\n",
       "      <th>min</th>\n",
       "      <td>1.000000</td>\n",
       "      <td>22.000000</td>\n",
       "      <td>13.000000</td>\n",
       "      <td>15.000000</td>\n",
       "      <td>14.000000</td>\n",
       "      <td>0.000000</td>\n",
       "    </tr>\n",
       "    <tr>\n",
       "      <th>25%</th>\n",
       "      <td>76.250000</td>\n",
       "      <td>29.000000</td>\n",
       "      <td>13.000000</td>\n",
       "      <td>15.000000</td>\n",
       "      <td>14.000000</td>\n",
       "      <td>2.000000</td>\n",
       "    </tr>\n",
       "    <tr>\n",
       "      <th>50%</th>\n",
       "      <td>152.500000</td>\n",
       "      <td>31.500000</td>\n",
       "      <td>18.000000</td>\n",
       "      <td>20.000000</td>\n",
       "      <td>19.000000</td>\n",
       "      <td>3.000000</td>\n",
       "    </tr>\n",
       "    <tr>\n",
       "      <th>75%</th>\n",
       "      <td>227.750000</td>\n",
       "      <td>35.000000</td>\n",
       "      <td>23.000000</td>\n",
       "      <td>25.000000</td>\n",
       "      <td>24.000000</td>\n",
       "      <td>6.000000</td>\n",
       "    </tr>\n",
       "    <tr>\n",
       "      <th>max</th>\n",
       "      <td>298.000000</td>\n",
       "      <td>49.000000</td>\n",
       "      <td>40.000000</td>\n",
       "      <td>40.000000</td>\n",
       "      <td>40.000000</td>\n",
       "      <td>21.000000</td>\n",
       "    </tr>\n",
       "  </tbody>\n",
       "</table>\n",
       "</div>"
      ],
      "text/plain": [
       "       analyst_id         age  min_sallary Range  max_sallary Range  \\\n",
       "count  230.000000  230.000000         230.000000         230.000000   \n",
       "mean   151.843478   32.443478          18.952174          21.282609   \n",
       "std     87.923209    4.904665           6.821003           6.983021   \n",
       "min      1.000000   22.000000          13.000000          15.000000   \n",
       "25%     76.250000   29.000000          13.000000          15.000000   \n",
       "50%    152.500000   31.500000          18.000000          20.000000   \n",
       "75%    227.750000   35.000000          23.000000          25.000000   \n",
       "max    298.000000   49.000000          40.000000          40.000000   \n",
       "\n",
       "       avg_sallary  experience_years  \n",
       "count   230.000000        230.000000  \n",
       "mean     20.291304          4.426087  \n",
       "std       7.007009          3.682985  \n",
       "min      14.000000          0.000000  \n",
       "25%      14.000000          2.000000  \n",
       "50%      19.000000          3.000000  \n",
       "75%      24.000000          6.000000  \n",
       "max      40.000000         21.000000  "
      ]
     },
     "execution_count": 4,
     "metadata": {},
     "output_type": "execute_result"
    }
   ],
   "source": [
    "df.describe()  # 230 remained results"
   ]
  },
  {
   "cell_type": "code",
   "execution_count": 5,
   "metadata": {},
   "outputs": [
    {
     "data": {
      "text/plain": [
       "0"
      ]
     },
     "execution_count": 5,
     "metadata": {},
     "output_type": "execute_result"
    }
   ],
   "source": [
    "#checks\n",
    "\n",
    "#df\n",
    "\n",
    "#check nones\n",
    "#df.isna().any()\n",
    "\n",
    "#df['equity'].isna().sum()\n",
    "#df.columns[df.isna().any()].tolist()\n",
    "\n",
    "\n",
    "# check if all is 1/yes\n",
    "#data_analyzing \n",
    "df[['data_analyzing']].describe()\n",
    "\n",
    "# check all is full time\n",
    "#'job_percentage'\n",
    "df[['job_percentage']].describe()\n",
    "\n",
    "df[['gender']].describe()\n",
    "\n",
    "df[['course_taken']].describe()\n",
    "df['course_taken'].isna().sum()"
   ]
  },
  {
   "cell_type": "code",
   "execution_count": 6,
   "metadata": {},
   "outputs": [],
   "source": [
    "# cleaning but anyway - wont be in the model since all values are the same : Yes \n",
    "df['data_analyzing'].replace(['Yes'], [1], inplace=True)"
   ]
  },
  {
   "cell_type": "code",
   "execution_count": 7,
   "metadata": {
    "scrolled": true
   },
   "outputs": [
    {
     "data": {
      "text/html": [
       "<div>\n",
       "<style scoped>\n",
       "    .dataframe tbody tr th:only-of-type {\n",
       "        vertical-align: middle;\n",
       "    }\n",
       "\n",
       "    .dataframe tbody tr th {\n",
       "        vertical-align: top;\n",
       "    }\n",
       "\n",
       "    .dataframe thead th {\n",
       "        text-align: right;\n",
       "    }\n",
       "</style>\n",
       "<table border=\"1\" class=\"dataframe\">\n",
       "  <thead>\n",
       "    <tr style=\"text-align: right;\">\n",
       "      <th></th>\n",
       "      <th>analyst_id</th>\n",
       "      <th>age</th>\n",
       "      <th>data_analyzing</th>\n",
       "      <th>min_sallary Range</th>\n",
       "      <th>max_sallary Range</th>\n",
       "      <th>avg_sallary</th>\n",
       "      <th>experience_years</th>\n",
       "    </tr>\n",
       "  </thead>\n",
       "  <tbody>\n",
       "    <tr>\n",
       "      <th>count</th>\n",
       "      <td>230.000000</td>\n",
       "      <td>230.000000</td>\n",
       "      <td>230.0</td>\n",
       "      <td>230.000000</td>\n",
       "      <td>230.000000</td>\n",
       "      <td>230.000000</td>\n",
       "      <td>230.000000</td>\n",
       "    </tr>\n",
       "    <tr>\n",
       "      <th>mean</th>\n",
       "      <td>151.843478</td>\n",
       "      <td>32.443478</td>\n",
       "      <td>1.0</td>\n",
       "      <td>18.952174</td>\n",
       "      <td>21.282609</td>\n",
       "      <td>20.291304</td>\n",
       "      <td>4.426087</td>\n",
       "    </tr>\n",
       "    <tr>\n",
       "      <th>std</th>\n",
       "      <td>87.923209</td>\n",
       "      <td>4.904665</td>\n",
       "      <td>0.0</td>\n",
       "      <td>6.821003</td>\n",
       "      <td>6.983021</td>\n",
       "      <td>7.007009</td>\n",
       "      <td>3.682985</td>\n",
       "    </tr>\n",
       "    <tr>\n",
       "      <th>min</th>\n",
       "      <td>1.000000</td>\n",
       "      <td>22.000000</td>\n",
       "      <td>1.0</td>\n",
       "      <td>13.000000</td>\n",
       "      <td>15.000000</td>\n",
       "      <td>14.000000</td>\n",
       "      <td>0.000000</td>\n",
       "    </tr>\n",
       "    <tr>\n",
       "      <th>25%</th>\n",
       "      <td>76.250000</td>\n",
       "      <td>29.000000</td>\n",
       "      <td>1.0</td>\n",
       "      <td>13.000000</td>\n",
       "      <td>15.000000</td>\n",
       "      <td>14.000000</td>\n",
       "      <td>2.000000</td>\n",
       "    </tr>\n",
       "    <tr>\n",
       "      <th>50%</th>\n",
       "      <td>152.500000</td>\n",
       "      <td>31.500000</td>\n",
       "      <td>1.0</td>\n",
       "      <td>18.000000</td>\n",
       "      <td>20.000000</td>\n",
       "      <td>19.000000</td>\n",
       "      <td>3.000000</td>\n",
       "    </tr>\n",
       "    <tr>\n",
       "      <th>75%</th>\n",
       "      <td>227.750000</td>\n",
       "      <td>35.000000</td>\n",
       "      <td>1.0</td>\n",
       "      <td>23.000000</td>\n",
       "      <td>25.000000</td>\n",
       "      <td>24.000000</td>\n",
       "      <td>6.000000</td>\n",
       "    </tr>\n",
       "    <tr>\n",
       "      <th>max</th>\n",
       "      <td>298.000000</td>\n",
       "      <td>49.000000</td>\n",
       "      <td>1.0</td>\n",
       "      <td>40.000000</td>\n",
       "      <td>40.000000</td>\n",
       "      <td>40.000000</td>\n",
       "      <td>21.000000</td>\n",
       "    </tr>\n",
       "  </tbody>\n",
       "</table>\n",
       "</div>"
      ],
      "text/plain": [
       "       analyst_id         age  data_analyzing  min_sallary Range  \\\n",
       "count  230.000000  230.000000           230.0         230.000000   \n",
       "mean   151.843478   32.443478             1.0          18.952174   \n",
       "std     87.923209    4.904665             0.0           6.821003   \n",
       "min      1.000000   22.000000             1.0          13.000000   \n",
       "25%     76.250000   29.000000             1.0          13.000000   \n",
       "50%    152.500000   31.500000             1.0          18.000000   \n",
       "75%    227.750000   35.000000             1.0          23.000000   \n",
       "max    298.000000   49.000000             1.0          40.000000   \n",
       "\n",
       "       max_sallary Range  avg_sallary  experience_years  \n",
       "count         230.000000   230.000000        230.000000  \n",
       "mean           21.282609    20.291304          4.426087  \n",
       "std             6.983021     7.007009          3.682985  \n",
       "min            15.000000    14.000000          0.000000  \n",
       "25%            15.000000    14.000000          2.000000  \n",
       "50%            20.000000    19.000000          3.000000  \n",
       "75%            25.000000    24.000000          6.000000  \n",
       "max            40.000000    40.000000         21.000000  "
      ]
     },
     "execution_count": 7,
     "metadata": {},
     "output_type": "execute_result"
    }
   ],
   "source": [
    "df.describe() #count 230 "
   ]
  },
  {
   "cell_type": "code",
   "execution_count": 8,
   "metadata": {},
   "outputs": [
    {
     "data": {
      "text/plain": [
       "count      230\n",
       "unique       2\n",
       "top       Male\n",
       "freq       150\n",
       "Name: gender, dtype: object"
      ]
     },
     "execution_count": 8,
     "metadata": {},
     "output_type": "execute_result"
    }
   ],
   "source": [
    "df[\"gender\"].describe()"
   ]
  },
  {
   "cell_type": "code",
   "execution_count": 9,
   "metadata": {},
   "outputs": [
    {
     "data": {
      "text/html": [
       "<div>\n",
       "<style scoped>\n",
       "    .dataframe tbody tr th:only-of-type {\n",
       "        vertical-align: middle;\n",
       "    }\n",
       "\n",
       "    .dataframe tbody tr th {\n",
       "        vertical-align: top;\n",
       "    }\n",
       "\n",
       "    .dataframe thead th {\n",
       "        text-align: right;\n",
       "    }\n",
       "</style>\n",
       "<table border=\"1\" class=\"dataframe\">\n",
       "  <thead>\n",
       "    <tr style=\"text-align: right;\">\n",
       "      <th></th>\n",
       "      <th>analyst_id</th>\n",
       "      <th>age</th>\n",
       "      <th>data_analyzing</th>\n",
       "      <th>min_sallary Range</th>\n",
       "      <th>max_sallary Range</th>\n",
       "      <th>avg_sallary</th>\n",
       "      <th>experience_years</th>\n",
       "    </tr>\n",
       "  </thead>\n",
       "  <tbody>\n",
       "    <tr>\n",
       "      <th>count</th>\n",
       "      <td>218.000000</td>\n",
       "      <td>218.000000</td>\n",
       "      <td>218.0</td>\n",
       "      <td>218.000000</td>\n",
       "      <td>218.00000</td>\n",
       "      <td>218.000000</td>\n",
       "      <td>218.000000</td>\n",
       "    </tr>\n",
       "    <tr>\n",
       "      <th>mean</th>\n",
       "      <td>150.857798</td>\n",
       "      <td>32.334862</td>\n",
       "      <td>1.0</td>\n",
       "      <td>18.522936</td>\n",
       "      <td>20.83945</td>\n",
       "      <td>19.844037</td>\n",
       "      <td>4.302752</td>\n",
       "    </tr>\n",
       "    <tr>\n",
       "      <th>std</th>\n",
       "      <td>88.035618</td>\n",
       "      <td>4.828179</td>\n",
       "      <td>0.0</td>\n",
       "      <td>6.457370</td>\n",
       "      <td>6.63234</td>\n",
       "      <td>6.645985</td>\n",
       "      <td>3.519543</td>\n",
       "    </tr>\n",
       "    <tr>\n",
       "      <th>min</th>\n",
       "      <td>1.000000</td>\n",
       "      <td>22.000000</td>\n",
       "      <td>1.0</td>\n",
       "      <td>13.000000</td>\n",
       "      <td>15.00000</td>\n",
       "      <td>14.000000</td>\n",
       "      <td>0.000000</td>\n",
       "    </tr>\n",
       "    <tr>\n",
       "      <th>25%</th>\n",
       "      <td>76.250000</td>\n",
       "      <td>29.000000</td>\n",
       "      <td>1.0</td>\n",
       "      <td>13.000000</td>\n",
       "      <td>15.00000</td>\n",
       "      <td>14.000000</td>\n",
       "      <td>2.000000</td>\n",
       "    </tr>\n",
       "    <tr>\n",
       "      <th>50%</th>\n",
       "      <td>151.000000</td>\n",
       "      <td>31.000000</td>\n",
       "      <td>1.0</td>\n",
       "      <td>18.000000</td>\n",
       "      <td>20.00000</td>\n",
       "      <td>19.000000</td>\n",
       "      <td>3.000000</td>\n",
       "    </tr>\n",
       "    <tr>\n",
       "      <th>75%</th>\n",
       "      <td>227.750000</td>\n",
       "      <td>35.000000</td>\n",
       "      <td>1.0</td>\n",
       "      <td>23.000000</td>\n",
       "      <td>25.00000</td>\n",
       "      <td>24.000000</td>\n",
       "      <td>5.000000</td>\n",
       "    </tr>\n",
       "    <tr>\n",
       "      <th>max</th>\n",
       "      <td>298.000000</td>\n",
       "      <td>49.000000</td>\n",
       "      <td>1.0</td>\n",
       "      <td>40.000000</td>\n",
       "      <td>40.00000</td>\n",
       "      <td>40.000000</td>\n",
       "      <td>20.000000</td>\n",
       "    </tr>\n",
       "  </tbody>\n",
       "</table>\n",
       "</div>"
      ],
      "text/plain": [
       "       analyst_id         age  data_analyzing  min_sallary Range  \\\n",
       "count  218.000000  218.000000           218.0         218.000000   \n",
       "mean   150.857798   32.334862             1.0          18.522936   \n",
       "std     88.035618    4.828179             0.0           6.457370   \n",
       "min      1.000000   22.000000             1.0          13.000000   \n",
       "25%     76.250000   29.000000             1.0          13.000000   \n",
       "50%    151.000000   31.000000             1.0          18.000000   \n",
       "75%    227.750000   35.000000             1.0          23.000000   \n",
       "max    298.000000   49.000000             1.0          40.000000   \n",
       "\n",
       "       max_sallary Range  avg_sallary  experience_years  \n",
       "count          218.00000   218.000000        218.000000  \n",
       "mean            20.83945    19.844037          4.302752  \n",
       "std              6.63234     6.645985          3.519543  \n",
       "min             15.00000    14.000000          0.000000  \n",
       "25%             15.00000    14.000000          2.000000  \n",
       "50%             20.00000    19.000000          3.000000  \n",
       "75%             25.00000    24.000000          5.000000  \n",
       "max             40.00000    40.000000         20.000000  "
      ]
     },
     "execution_count": 9,
     "metadata": {},
     "output_type": "execute_result"
    }
   ],
   "source": [
    "# only data analysts (droping the 12 data scientists)\n",
    "# df without data scientists \n",
    "df_analysts = df[df['data_science'] == 'No']\n",
    "df_analysts.describe() #218"
   ]
  },
  {
   "cell_type": "code",
   "execution_count": 10,
   "metadata": {},
   "outputs": [
    {
     "data": {
      "text/plain": [
       "0      17.0\n",
       "2      24.0\n",
       "3      17.0\n",
       "4      14.0\n",
       "5      17.0\n",
       "6      19.0\n",
       "7      19.0\n",
       "8      17.0\n",
       "9      19.0\n",
       "11     19.0\n",
       "12     19.0\n",
       "14     19.0\n",
       "15     19.0\n",
       "16     24.0\n",
       "17     19.0\n",
       "19     14.0\n",
       "22     14.0\n",
       "26     24.0\n",
       "27     27.0\n",
       "28     14.0\n",
       "29     14.0\n",
       "30     27.0\n",
       "31     14.0\n",
       "32     14.0\n",
       "35     17.0\n",
       "39     17.0\n",
       "42     14.0\n",
       "43     17.0\n",
       "45     19.0\n",
       "46     17.0\n",
       "47     19.0\n",
       "51     19.0\n",
       "52     14.0\n",
       "54     14.0\n",
       "55     19.0\n",
       "57     24.0\n",
       "58     19.0\n",
       "59     17.0\n",
       "60     19.0\n",
       "63     24.0\n",
       "64     17.0\n",
       "65     14.0\n",
       "68     14.0\n",
       "71     17.0\n",
       "74     19.0\n",
       "75     14.0\n",
       "76     19.0\n",
       "77     19.0\n",
       "79     24.0\n",
       "80     14.0\n",
       "81     14.0\n",
       "82     17.0\n",
       "85     17.0\n",
       "86     17.0\n",
       "87     27.0\n",
       "89     14.0\n",
       "90     19.0\n",
       "91     14.0\n",
       "92     14.0\n",
       "93     14.0\n",
       "94     17.0\n",
       "96     14.0\n",
       "97     27.0\n",
       "100    19.0\n",
       "101    14.0\n",
       "103    19.0\n",
       "107    19.0\n",
       "108    14.0\n",
       "109    24.0\n",
       "110    19.0\n",
       "113    14.0\n",
       "116    19.0\n",
       "117    19.0\n",
       "119    14.0\n",
       "120    19.0\n",
       "121    27.0\n",
       "124    17.0\n",
       "125    14.0\n",
       "126    19.0\n",
       "127    17.0\n",
       "129    14.0\n",
       "130    14.0\n",
       "133    27.0\n",
       "135    24.0\n",
       "136    14.0\n",
       "138    24.0\n",
       "139    17.0\n",
       "140    27.0\n",
       "141    19.0\n",
       "144    14.0\n",
       "145    24.0\n",
       "147    19.0\n",
       "148    17.0\n",
       "149    14.0\n",
       "151    19.0\n",
       "152    14.0\n",
       "153    14.0\n",
       "154    14.0\n",
       "157    27.0\n",
       "158    14.0\n",
       "159    17.0\n",
       "160    17.0\n",
       "162    19.0\n",
       "163    17.0\n",
       "165    24.0\n",
       "166    19.0\n",
       "168    19.0\n",
       "171    19.0\n",
       "172    27.0\n",
       "173    14.0\n",
       "174    14.0\n",
       "175    19.0\n",
       "177    14.0\n",
       "178    14.0\n",
       "179    17.0\n",
       "182    19.0\n",
       "184    19.0\n",
       "185    19.0\n",
       "188    19.0\n",
       "189    14.0\n",
       "191    14.0\n",
       "192    24.0\n",
       "194    19.0\n",
       "195    19.0\n",
       "197    14.0\n",
       "200    24.0\n",
       "203    17.0\n",
       "204    19.0\n",
       "205    27.0\n",
       "206    19.0\n",
       "209    27.0\n",
       "210    24.0\n",
       "211    19.0\n",
       "214    24.0\n",
       "215    14.0\n",
       "216    14.0\n",
       "217    24.0\n",
       "218    14.0\n",
       "219    27.0\n",
       "220    17.0\n",
       "221    17.0\n",
       "222    19.0\n",
       "226    14.0\n",
       "227    17.0\n",
       "229    17.0\n",
       "230    19.0\n",
       "231    19.0\n",
       "232    14.0\n",
       "234    14.0\n",
       "237    14.0\n",
       "238    19.0\n",
       "239    17.0\n",
       "240    14.0\n",
       "241    17.0\n",
       "242    19.0\n",
       "243    19.0\n",
       "245    19.0\n",
       "247    19.0\n",
       "248    14.0\n",
       "250    17.0\n",
       "251    14.0\n",
       "252    17.0\n",
       "253    14.0\n",
       "254    14.0\n",
       "255    27.0\n",
       "256    19.0\n",
       "257    17.0\n",
       "260    17.0\n",
       "261    24.0\n",
       "262    19.0\n",
       "265    14.0\n",
       "266    14.0\n",
       "267    19.0\n",
       "270    17.0\n",
       "271    17.0\n",
       "273    19.0\n",
       "274    14.0\n",
       "275    14.0\n",
       "277    14.0\n",
       "278    24.0\n",
       "279    19.0\n",
       "283    14.0\n",
       "284    19.0\n",
       "286    14.0\n",
       "287    17.0\n",
       "288    14.0\n",
       "290    14.0\n",
       "291    14.0\n",
       "292    24.0\n",
       "293    19.0\n",
       "294    14.0\n",
       "295    14.0\n",
       "296    14.0\n",
       "297    14.0\n",
       "Name: avg_sallary, dtype: float64"
      ]
     },
     "execution_count": 10,
     "metadata": {},
     "output_type": "execute_result"
    }
   ],
   "source": [
    "# salary <= 30\n",
    "df_analysts_salary = df_analysts[df_analysts['avg_sallary'] <= 30]\n",
    "df_analysts_salary.describe() #194 analysts have salary <=30\n",
    "df_analysts_salary[\"avg_sallary\"]"
   ]
  },
  {
   "cell_type": "code",
   "execution_count": 11,
   "metadata": {},
   "outputs": [
    {
     "data": {
      "text/plain": [
       "count      218\n",
       "unique       2\n",
       "top       Male\n",
       "freq       143\n",
       "Name: gender, dtype: object"
      ]
     },
     "execution_count": 11,
     "metadata": {},
     "output_type": "execute_result"
    }
   ],
   "source": [
    "df_analysts[\"gender\"].describe()"
   ]
  },
  {
   "cell_type": "code",
   "execution_count": 12,
   "metadata": {},
   "outputs": [],
   "source": [
    "#Adjusting data - changing text values to numbers\n",
    "df['gender'].replace(['Male', 'Female'], [0, 1], inplace=True)\n",
    "df['data_science'].replace(['No', 'Yes'], [0, 1], inplace=True)\n",
    "df['using_sql'].replace(['No', 'Yes'], [0, 1], inplace=True)\n",
    "df['predictive_models'].replace(['No', 'Yes'], [0, 1], inplace=True)\n",
    "df['wages_decrease_covid19'].replace(['No', 'Yes'], [0, 1], inplace=True)\n",
    "df['fired_covid19'].replace(['No', 'Yes'], [0, 1], inplace=True)\n",
    "df['equity'].replace(['No', 'Yes'], [0, 1], inplace=True)\n",
    "df['manager'].replace(['No', 'Yes'], [0, 1], inplace=True)\n",
    "df['course_taken'].replace(['No', 'Yes'], [0, 1], inplace=True)\n",
    "\n",
    "#required_statistic_knowledge\n",
    "df['required_statistic_knowledge'].replace(['No', 'Little', 'Medium', 'High'], [0, 1, 2, 3], inplace=True)"
   ]
  },
  {
   "cell_type": "code",
   "execution_count": 13,
   "metadata": {
    "scrolled": false
   },
   "outputs": [
    {
     "data": {
      "text/plain": [
       "analyst_id                        0\n",
       "gender                            0\n",
       "age                               0\n",
       "data_analyzing                    0\n",
       "analyst_type                      0\n",
       "data_science                      0\n",
       "living_area                       0\n",
       "office_area                       0\n",
       "job_percentage                    0\n",
       "sallary                           0\n",
       "min_sallary Range                 0\n",
       "max_sallary Range                 0\n",
       "avg_sallary                       0\n",
       "equity                            0\n",
       "experience_years                  0\n",
       "manager                           0\n",
       "school_degree                    11\n",
       "course_taken                      0\n",
       "course_name                     178\n",
       "visualization_tool                1\n",
       "using_sql                         0\n",
       "required_statistic_knowledge      0\n",
       "predictive_models                 0\n",
       "wages_decrease_covid19            0\n",
       "fired_covid19                     0\n",
       "company                           2\n",
       "startup_size                    143\n",
       "dtype: int64"
      ]
     },
     "execution_count": 13,
     "metadata": {},
     "output_type": "execute_result"
    }
   ],
   "source": [
    "# checks\n",
    "df.dtypes\n",
    "#check sum of nulls per column\n",
    "df.isnull().sum()"
   ]
  },
  {
   "cell_type": "code",
   "execution_count": 14,
   "metadata": {},
   "outputs": [],
   "source": [
    "# #convert objects to float\n",
    "# df['data_science'].astype(str).astype(float)\n",
    "# df['data_science'].dtypes"
   ]
  },
  {
   "cell_type": "code",
   "execution_count": 15,
   "metadata": {},
   "outputs": [
    {
     "data": {
      "text/plain": [
       "<AxesSubplot:>"
      ]
     },
     "execution_count": 15,
     "metadata": {},
     "output_type": "execute_result"
    },
    {
     "data": {
      "image/png": "[encoded data removed]",
      "text/plain": [
       "<Figure size 432x288 with 1 Axes>"
      ]
     },
     "metadata": {
      "needs_background": "light"
     },
     "output_type": "display_data"
    }
   ],
   "source": [
    "df_analysts[\"experience_years\"].hist()"
   ]
  },
  {
   "cell_type": "code",
   "execution_count": 16,
   "metadata": {},
   "outputs": [],
   "source": [
    "#df['experience_years'].mean() # 4.42\n",
    "#df['experience_years'].median() # 3\n",
    "#df['avg_sallary'].mean() # 20.3\n",
    "#df['avg_sallary'].median() #19"
   ]
  },
  {
   "cell_type": "code",
   "execution_count": 17,
   "metadata": {},
   "outputs": [],
   "source": [
    "#df_analysts['experience_years'].mean() # 4.3\n",
    "#df_analysts['experience_years'].median() # 3"
   ]
  },
  {
   "cell_type": "code",
   "execution_count": 18,
   "metadata": {},
   "outputs": [],
   "source": [
    "#df_analysts['avg_sallary'].mean() #19,840\n",
    "#df_analysts['avg_sallary'].median() #19,000"
   ]
  },
  {
   "cell_type": "code",
   "execution_count": 19,
   "metadata": {},
   "outputs": [
    {
     "data": {
      "text/html": [
       "<div>\n",
       "<style scoped>\n",
       "    .dataframe tbody tr th:only-of-type {\n",
       "        vertical-align: middle;\n",
       "    }\n",
       "\n",
       "    .dataframe tbody tr th {\n",
       "        vertical-align: top;\n",
       "    }\n",
       "\n",
       "    .dataframe thead th {\n",
       "        text-align: right;\n",
       "    }\n",
       "</style>\n",
       "<table border=\"1\" class=\"dataframe\">\n",
       "  <thead>\n",
       "    <tr style=\"text-align: right;\">\n",
       "      <th></th>\n",
       "      <th>average</th>\n",
       "      <th>median</th>\n",
       "      <th>min</th>\n",
       "      <th>max</th>\n",
       "      <th>std</th>\n",
       "      <th>count_nonzero</th>\n",
       "    </tr>\n",
       "    <tr>\n",
       "      <th>experience_years</th>\n",
       "      <th></th>\n",
       "      <th></th>\n",
       "      <th></th>\n",
       "      <th></th>\n",
       "      <th></th>\n",
       "      <th></th>\n",
       "    </tr>\n",
       "  </thead>\n",
       "  <tbody>\n",
       "    <tr>\n",
       "      <th>(0, 1]</th>\n",
       "      <td>15.131579</td>\n",
       "      <td>14.0</td>\n",
       "      <td>14.0</td>\n",
       "      <td>19.0</td>\n",
       "      <td>1.876902</td>\n",
       "      <td>38.0</td>\n",
       "    </tr>\n",
       "    <tr>\n",
       "      <th>(1, 3]</th>\n",
       "      <td>17.644737</td>\n",
       "      <td>17.0</td>\n",
       "      <td>14.0</td>\n",
       "      <td>37.0</td>\n",
       "      <td>4.002346</td>\n",
       "      <td>76.0</td>\n",
       "    </tr>\n",
       "    <tr>\n",
       "      <th>(3, 6]</th>\n",
       "      <td>22.140625</td>\n",
       "      <td>19.0</td>\n",
       "      <td>14.0</td>\n",
       "      <td>37.0</td>\n",
       "      <td>6.937058</td>\n",
       "      <td>64.0</td>\n",
       "    </tr>\n",
       "    <tr>\n",
       "      <th>(6, 20]</th>\n",
       "      <td>25.394737</td>\n",
       "      <td>24.0</td>\n",
       "      <td>14.0</td>\n",
       "      <td>40.0</td>\n",
       "      <td>8.109186</td>\n",
       "      <td>38.0</td>\n",
       "    </tr>\n",
       "  </tbody>\n",
       "</table>\n",
       "</div>"
      ],
      "text/plain": [
       "                    average  median   min   max       std  count_nonzero\n",
       "experience_years                                                        \n",
       "(0, 1]            15.131579    14.0  14.0  19.0  1.876902           38.0\n",
       "(1, 3]            17.644737    17.0  14.0  37.0  4.002346           76.0\n",
       "(3, 6]            22.140625    19.0  14.0  37.0  6.937058           64.0\n",
       "(6, 20]           25.394737    24.0  14.0  40.0  8.109186           38.0"
      ]
     },
     "execution_count": 19,
     "metadata": {},
     "output_type": "execute_result"
    }
   ],
   "source": [
    "# analysts - experience years \n",
    "df_analysts[\"avg_sallary\"].groupby(pd.cut(df_analysts[\"experience_years\"], [0,1,3,6,20])).aggregate([np.average, np.median, min, max, np.std, np.count_nonzero])"
   ]
  },
  {
   "cell_type": "code",
   "execution_count": 33,
   "metadata": {},
   "outputs": [
    {
     "data": {
      "text/html": [
       "<div>\n",
       "<style scoped>\n",
       "    .dataframe tbody tr th:only-of-type {\n",
       "        vertical-align: middle;\n",
       "    }\n",
       "\n",
       "    .dataframe tbody tr th {\n",
       "        vertical-align: top;\n",
       "    }\n",
       "\n",
       "    .dataframe thead th {\n",
       "        text-align: right;\n",
       "    }\n",
       "</style>\n",
       "<table border=\"1\" class=\"dataframe\">\n",
       "  <thead>\n",
       "    <tr style=\"text-align: right;\">\n",
       "      <th></th>\n",
       "      <th>average</th>\n",
       "      <th>median</th>\n",
       "      <th>max</th>\n",
       "      <th>std</th>\n",
       "      <th>count_nonzero</th>\n",
       "    </tr>\n",
       "    <tr>\n",
       "      <th>gender</th>\n",
       "      <th></th>\n",
       "      <th></th>\n",
       "      <th></th>\n",
       "      <th></th>\n",
       "      <th></th>\n",
       "    </tr>\n",
       "  </thead>\n",
       "  <tbody>\n",
       "    <tr>\n",
       "      <th>Female</th>\n",
       "      <td>20.63</td>\n",
       "      <td>19.00</td>\n",
       "      <td>37.00</td>\n",
       "      <td>6.73</td>\n",
       "      <td>75.00</td>\n",
       "    </tr>\n",
       "    <tr>\n",
       "      <th>Male</th>\n",
       "      <td>19.43</td>\n",
       "      <td>17.00</td>\n",
       "      <td>40.00</td>\n",
       "      <td>6.59</td>\n",
       "      <td>143.00</td>\n",
       "    </tr>\n",
       "  </tbody>\n",
       "</table>\n",
       "</div>"
      ],
      "text/plain": [
       "        average  median   max  std  count_nonzero\n",
       "gender                                           \n",
       "Female    20.63   19.00 37.00 6.73          75.00\n",
       "Male      19.43   17.00 40.00 6.59         143.00"
      ]
     },
     "execution_count": 33,
     "metadata": {},
     "output_type": "execute_result"
    }
   ],
   "source": [
    "# by gender\n",
    "df_analysts[\"avg_sallary\"].groupby([df_analysts[\"gender\"]]).aggregate([np.average, np.median, max, np.std, np.count_nonzero])\n"
   ]
  },
  {
   "cell_type": "code",
   "execution_count": 21,
   "metadata": {},
   "outputs": [],
   "source": [
    "#df female analysts \n",
    "df_analysts_female = df_analysts[df_analysts['gender'] == 1]\n",
    "#df_analysts_female['experience_years'].mean() # 4.76\n",
    "#df_analysts_female['experience_years'].median() # 4\n",
    "#df_analysts_female['avg_sallary'].mean() # 20.626\n",
    "#df_analysts_female['avg_sallary'].median() #19"
   ]
  },
  {
   "cell_type": "code",
   "execution_count": 22,
   "metadata": {},
   "outputs": [],
   "source": [
    "#df male analysts \n",
    "df_analysts_male = df_analysts[df_analysts['gender'] == 0]\n",
    "#df_analysts_male['experience_years'].mean() # 4.06\n",
    "#df_analysts_male['experience_years'].median() # 3\n",
    "#df_analysts_male['avg_sallary'].mean() # 19,433\n",
    "#df_analysts_male['avg_sallary'].median() #17"
   ]
  },
  {
   "cell_type": "code",
   "execution_count": 30,
   "metadata": {},
   "outputs": [
    {
     "data": {
      "text/html": [
       "<div>\n",
       "<style scoped>\n",
       "    .dataframe tbody tr th:only-of-type {\n",
       "        vertical-align: middle;\n",
       "    }\n",
       "\n",
       "    .dataframe tbody tr th {\n",
       "        vertical-align: top;\n",
       "    }\n",
       "\n",
       "    .dataframe thead th {\n",
       "        text-align: right;\n",
       "    }\n",
       "</style>\n",
       "<table border=\"1\" class=\"dataframe\">\n",
       "  <thead>\n",
       "    <tr style=\"text-align: right;\">\n",
       "      <th></th>\n",
       "      <th>average</th>\n",
       "      <th>median</th>\n",
       "      <th>max</th>\n",
       "      <th>std</th>\n",
       "      <th>count_nonzero</th>\n",
       "    </tr>\n",
       "    <tr>\n",
       "      <th>experience_years</th>\n",
       "      <th></th>\n",
       "      <th></th>\n",
       "      <th></th>\n",
       "      <th></th>\n",
       "      <th></th>\n",
       "    </tr>\n",
       "  </thead>\n",
       "  <tbody>\n",
       "    <tr>\n",
       "      <th>(0, 1]</th>\n",
       "      <td>15.13</td>\n",
       "      <td>14.00</td>\n",
       "      <td>19.00</td>\n",
       "      <td>1.88</td>\n",
       "      <td>38.00</td>\n",
       "    </tr>\n",
       "    <tr>\n",
       "      <th>(1, 3]</th>\n",
       "      <td>17.64</td>\n",
       "      <td>17.00</td>\n",
       "      <td>37.00</td>\n",
       "      <td>4.00</td>\n",
       "      <td>76.00</td>\n",
       "    </tr>\n",
       "    <tr>\n",
       "      <th>(3, 6]</th>\n",
       "      <td>22.14</td>\n",
       "      <td>19.00</td>\n",
       "      <td>37.00</td>\n",
       "      <td>6.94</td>\n",
       "      <td>64.00</td>\n",
       "    </tr>\n",
       "    <tr>\n",
       "      <th>(6, 20]</th>\n",
       "      <td>25.39</td>\n",
       "      <td>24.00</td>\n",
       "      <td>40.00</td>\n",
       "      <td>8.11</td>\n",
       "      <td>38.00</td>\n",
       "    </tr>\n",
       "  </tbody>\n",
       "</table>\n",
       "</div>"
      ],
      "text/plain": [
       "                  average  median   max  std  count_nonzero\n",
       "experience_years                                           \n",
       "(0, 1]              15.13   14.00 19.00 1.88          38.00\n",
       "(1, 3]              17.64   17.00 37.00 4.00          76.00\n",
       "(3, 6]              22.14   19.00 37.00 6.94          64.00\n",
       "(6, 20]             25.39   24.00 40.00 8.11          38.00"
      ]
     },
     "execution_count": 30,
     "metadata": {},
     "output_type": "execute_result"
    }
   ],
   "source": [
    "df_analysts[\"avg_sallary\"].groupby(pd.cut(df_analysts[\"experience_years\"], [0,1,3,6,20])).aggregate([np.average, np.median, max, np.std, np.count_nonzero])\n"
   ]
  },
  {
   "cell_type": "code",
   "execution_count": 24,
   "metadata": {},
   "outputs": [],
   "source": [
    "# by gender\n",
    "#df_analysts_female[\"avg_sallary\"].groupby(df_analysts_female[\"experience_years\"]).aggregate([np.average, np.median, max, np.std, np.count_nonzero])"
   ]
  },
  {
   "cell_type": "code",
   "execution_count": 25,
   "metadata": {},
   "outputs": [
    {
     "data": {
      "image/png": "[encoded data removed]",
      "text/plain": [
       "<Figure size 720x360 with 1 Axes>"
      ]
     },
     "metadata": {
      "needs_background": "light"
     },
     "output_type": "display_data"
    }
   ],
   "source": [
    "plt.figure(figsize= (10,5))\n",
    "df_analysts.avg_sallary.plot(kind=\"hist\", rwidth=0.95)\n",
    "plt.xlabel('avg_sallary')\n",
    "plt.title('Distribution of average wages')\n",
    "plt.show()"
   ]
  },
  {
   "cell_type": "code",
   "execution_count": 26,
   "metadata": {},
   "outputs": [
    {
     "data": {
      "image/png": "[encoded data removed]",
      "text/plain": [
       "<Figure size 720x360 with 1 Axes>"
      ]
     },
     "metadata": {
      "needs_background": "light"
     },
     "output_type": "display_data"
    }
   ],
   "source": [
    "# analyst salary by gender \n",
    "\n",
    "df_analysts.groupby('gender')['avg_sallary'].plot(kind='kde', figsize=(10, 5))\n",
    "plt.legend()\n",
    "plt.title('avg_sallary - Gender')\n",
    "plt.xlabel('avg_sallary')\n",
    "plt.show()"
   ]
  },
  {
   "cell_type": "code",
   "execution_count": 36,
   "metadata": {
    "scrolled": true
   },
   "outputs": [
    {
     "ename": "ValueError",
     "evalue": "x and y must be the same size",
     "output_type": "error",
     "traceback": [
      "\u001b[1;31m---------------------------------------------------------------------------\u001b[0m",
      "\u001b[1;31mValueError\u001b[0m                                Traceback (most recent call last)",
      "\u001b[1;32m<ipython-input-36-2c1f7fc874e8>\u001b[0m in \u001b[0;36m<module>\u001b[1;34m\u001b[0m\n\u001b[1;32m----> 1\u001b[1;33m \u001b[0mplt\u001b[0m\u001b[1;33m.\u001b[0m\u001b[0mscatter\u001b[0m\u001b[1;33m(\u001b[0m\u001b[0mdf_analysts\u001b[0m\u001b[1;33m[\u001b[0m\u001b[1;34m'experience_years'\u001b[0m\u001b[1;33m]\u001b[0m\u001b[1;33m,\u001b[0m \u001b[0mdf\u001b[0m\u001b[1;33m[\u001b[0m\u001b[1;34m'avg_sallary'\u001b[0m\u001b[1;33m]\u001b[0m\u001b[1;33m)\u001b[0m\u001b[1;33m\u001b[0m\u001b[1;33m\u001b[0m\u001b[0m\n\u001b[0m\u001b[0;32m      2\u001b[0m \u001b[0mplt\u001b[0m\u001b[1;33m.\u001b[0m\u001b[0mtitle\u001b[0m\u001b[1;33m(\u001b[0m\u001b[1;34m'avg_sallary - Experience'\u001b[0m\u001b[1;33m)\u001b[0m\u001b[1;33m\u001b[0m\u001b[1;33m\u001b[0m\u001b[0m\n\u001b[0;32m      3\u001b[0m \u001b[0mplt\u001b[0m\u001b[1;33m.\u001b[0m\u001b[0mxlabel\u001b[0m\u001b[1;33m(\u001b[0m\u001b[1;34m'Experience'\u001b[0m\u001b[1;33m)\u001b[0m\u001b[1;33m\u001b[0m\u001b[1;33m\u001b[0m\u001b[0m\n\u001b[0;32m      4\u001b[0m \u001b[0mplt\u001b[0m\u001b[1;33m.\u001b[0m\u001b[0mshow\u001b[0m\u001b[1;33m(\u001b[0m\u001b[1;33m)\u001b[0m\u001b[1;33m\u001b[0m\u001b[1;33m\u001b[0m\u001b[0m\n",
      "\u001b[1;32mC:\\ProgramData\\Anaconda3\\lib\\site-packages\\matplotlib\\pyplot.py\u001b[0m in \u001b[0;36mscatter\u001b[1;34m(x, y, s, c, marker, cmap, norm, vmin, vmax, alpha, linewidths, verts, edgecolors, plotnonfinite, data, **kwargs)\u001b[0m\n\u001b[0;32m   2888\u001b[0m         \u001b[0mverts\u001b[0m\u001b[1;33m=\u001b[0m\u001b[0mcbook\u001b[0m\u001b[1;33m.\u001b[0m\u001b[0mdeprecation\u001b[0m\u001b[1;33m.\u001b[0m\u001b[0m_deprecated_parameter\u001b[0m\u001b[1;33m,\u001b[0m\u001b[1;33m\u001b[0m\u001b[1;33m\u001b[0m\u001b[0m\n\u001b[0;32m   2889\u001b[0m         edgecolors=None, *, plotnonfinite=False, data=None, **kwargs):\n\u001b[1;32m-> 2890\u001b[1;33m     __ret = gca().scatter(\n\u001b[0m\u001b[0;32m   2891\u001b[0m         \u001b[0mx\u001b[0m\u001b[1;33m,\u001b[0m \u001b[0my\u001b[0m\u001b[1;33m,\u001b[0m \u001b[0ms\u001b[0m\u001b[1;33m=\u001b[0m\u001b[0ms\u001b[0m\u001b[1;33m,\u001b[0m \u001b[0mc\u001b[0m\u001b[1;33m=\u001b[0m\u001b[0mc\u001b[0m\u001b[1;33m,\u001b[0m \u001b[0mmarker\u001b[0m\u001b[1;33m=\u001b[0m\u001b[0mmarker\u001b[0m\u001b[1;33m,\u001b[0m \u001b[0mcmap\u001b[0m\u001b[1;33m=\u001b[0m\u001b[0mcmap\u001b[0m\u001b[1;33m,\u001b[0m \u001b[0mnorm\u001b[0m\u001b[1;33m=\u001b[0m\u001b[0mnorm\u001b[0m\u001b[1;33m,\u001b[0m\u001b[1;33m\u001b[0m\u001b[1;33m\u001b[0m\u001b[0m\n\u001b[0;32m   2892\u001b[0m         \u001b[0mvmin\u001b[0m\u001b[1;33m=\u001b[0m\u001b[0mvmin\u001b[0m\u001b[1;33m,\u001b[0m \u001b[0mvmax\u001b[0m\u001b[1;33m=\u001b[0m\u001b[0mvmax\u001b[0m\u001b[1;33m,\u001b[0m \u001b[0malpha\u001b[0m\u001b[1;33m=\u001b[0m\u001b[0malpha\u001b[0m\u001b[1;33m,\u001b[0m \u001b[0mlinewidths\u001b[0m\u001b[1;33m=\u001b[0m\u001b[0mlinewidths\u001b[0m\u001b[1;33m,\u001b[0m\u001b[1;33m\u001b[0m\u001b[1;33m\u001b[0m\u001b[0m\n",
      "\u001b[1;32mC:\\ProgramData\\Anaconda3\\lib\\site-packages\\matplotlib\\__init__.py\u001b[0m in \u001b[0;36minner\u001b[1;34m(ax, data, *args, **kwargs)\u001b[0m\n\u001b[0;32m   1436\u001b[0m     \u001b[1;32mdef\u001b[0m \u001b[0minner\u001b[0m\u001b[1;33m(\u001b[0m\u001b[0max\u001b[0m\u001b[1;33m,\u001b[0m \u001b[1;33m*\u001b[0m\u001b[0margs\u001b[0m\u001b[1;33m,\u001b[0m \u001b[0mdata\u001b[0m\u001b[1;33m=\u001b[0m\u001b[1;32mNone\u001b[0m\u001b[1;33m,\u001b[0m \u001b[1;33m**\u001b[0m\u001b[0mkwargs\u001b[0m\u001b[1;33m)\u001b[0m\u001b[1;33m:\u001b[0m\u001b[1;33m\u001b[0m\u001b[1;33m\u001b[0m\u001b[0m\n\u001b[0;32m   1437\u001b[0m         \u001b[1;32mif\u001b[0m \u001b[0mdata\u001b[0m \u001b[1;32mis\u001b[0m \u001b[1;32mNone\u001b[0m\u001b[1;33m:\u001b[0m\u001b[1;33m\u001b[0m\u001b[1;33m\u001b[0m\u001b[0m\n\u001b[1;32m-> 1438\u001b[1;33m             \u001b[1;32mreturn\u001b[0m \u001b[0mfunc\u001b[0m\u001b[1;33m(\u001b[0m\u001b[0max\u001b[0m\u001b[1;33m,\u001b[0m \u001b[1;33m*\u001b[0m\u001b[0mmap\u001b[0m\u001b[1;33m(\u001b[0m\u001b[0msanitize_sequence\u001b[0m\u001b[1;33m,\u001b[0m \u001b[0margs\u001b[0m\u001b[1;33m)\u001b[0m\u001b[1;33m,\u001b[0m \u001b[1;33m**\u001b[0m\u001b[0mkwargs\u001b[0m\u001b[1;33m)\u001b[0m\u001b[1;33m\u001b[0m\u001b[1;33m\u001b[0m\u001b[0m\n\u001b[0m\u001b[0;32m   1439\u001b[0m \u001b[1;33m\u001b[0m\u001b[0m\n\u001b[0;32m   1440\u001b[0m         \u001b[0mbound\u001b[0m \u001b[1;33m=\u001b[0m \u001b[0mnew_sig\u001b[0m\u001b[1;33m.\u001b[0m\u001b[0mbind\u001b[0m\u001b[1;33m(\u001b[0m\u001b[0max\u001b[0m\u001b[1;33m,\u001b[0m \u001b[1;33m*\u001b[0m\u001b[0margs\u001b[0m\u001b[1;33m,\u001b[0m \u001b[1;33m**\u001b[0m\u001b[0mkwargs\u001b[0m\u001b[1;33m)\u001b[0m\u001b[1;33m\u001b[0m\u001b[1;33m\u001b[0m\u001b[0m\n",
      "\u001b[1;32mC:\\ProgramData\\Anaconda3\\lib\\site-packages\\matplotlib\\cbook\\deprecation.py\u001b[0m in \u001b[0;36mwrapper\u001b[1;34m(*inner_args, **inner_kwargs)\u001b[0m\n\u001b[0;32m    409\u001b[0m                          \u001b[1;32melse\u001b[0m \u001b[0mdeprecation_addendum\u001b[0m\u001b[1;33m,\u001b[0m\u001b[1;33m\u001b[0m\u001b[1;33m\u001b[0m\u001b[0m\n\u001b[0;32m    410\u001b[0m                 **kwargs)\n\u001b[1;32m--> 411\u001b[1;33m         \u001b[1;32mreturn\u001b[0m \u001b[0mfunc\u001b[0m\u001b[1;33m(\u001b[0m\u001b[1;33m*\u001b[0m\u001b[0minner_args\u001b[0m\u001b[1;33m,\u001b[0m \u001b[1;33m**\u001b[0m\u001b[0minner_kwargs\u001b[0m\u001b[1;33m)\u001b[0m\u001b[1;33m\u001b[0m\u001b[1;33m\u001b[0m\u001b[0m\n\u001b[0m\u001b[0;32m    412\u001b[0m \u001b[1;33m\u001b[0m\u001b[0m\n\u001b[0;32m    413\u001b[0m     \u001b[1;32mreturn\u001b[0m \u001b[0mwrapper\u001b[0m\u001b[1;33m\u001b[0m\u001b[1;33m\u001b[0m\u001b[0m\n",
      "\u001b[1;32mC:\\ProgramData\\Anaconda3\\lib\\site-packages\\matplotlib\\axes\\_axes.py\u001b[0m in \u001b[0;36mscatter\u001b[1;34m(self, x, y, s, c, marker, cmap, norm, vmin, vmax, alpha, linewidths, verts, edgecolors, plotnonfinite, **kwargs)\u001b[0m\n\u001b[0;32m   4439\u001b[0m         \u001b[0my\u001b[0m \u001b[1;33m=\u001b[0m \u001b[0mnp\u001b[0m\u001b[1;33m.\u001b[0m\u001b[0mma\u001b[0m\u001b[1;33m.\u001b[0m\u001b[0mravel\u001b[0m\u001b[1;33m(\u001b[0m\u001b[0my\u001b[0m\u001b[1;33m)\u001b[0m\u001b[1;33m\u001b[0m\u001b[1;33m\u001b[0m\u001b[0m\n\u001b[0;32m   4440\u001b[0m         \u001b[1;32mif\u001b[0m \u001b[0mx\u001b[0m\u001b[1;33m.\u001b[0m\u001b[0msize\u001b[0m \u001b[1;33m!=\u001b[0m \u001b[0my\u001b[0m\u001b[1;33m.\u001b[0m\u001b[0msize\u001b[0m\u001b[1;33m:\u001b[0m\u001b[1;33m\u001b[0m\u001b[1;33m\u001b[0m\u001b[0m\n\u001b[1;32m-> 4441\u001b[1;33m             \u001b[1;32mraise\u001b[0m \u001b[0mValueError\u001b[0m\u001b[1;33m(\u001b[0m\u001b[1;34m\"x and y must be the same size\"\u001b[0m\u001b[1;33m)\u001b[0m\u001b[1;33m\u001b[0m\u001b[1;33m\u001b[0m\u001b[0m\n\u001b[0m\u001b[0;32m   4442\u001b[0m \u001b[1;33m\u001b[0m\u001b[0m\n\u001b[0;32m   4443\u001b[0m         \u001b[1;32mif\u001b[0m \u001b[0ms\u001b[0m \u001b[1;32mis\u001b[0m \u001b[1;32mNone\u001b[0m\u001b[1;33m:\u001b[0m\u001b[1;33m\u001b[0m\u001b[1;33m\u001b[0m\u001b[0m\n",
      "\u001b[1;31mValueError\u001b[0m: x and y must be the same size"
     ]
    },
    {
     "data": {
      "image/png": "[encoded data removed]",
      "text/plain": [
       "<Figure size 432x288 with 1 Axes>"
      ]
     },
     "metadata": {
      "needs_background": "light"
     },
     "output_type": "display_data"
    }
   ],
   "source": [
    "plt.scatter(df_analysts['experience_years'], df['avg_sallary'])\n",
    "plt.title('avg_sallary - Experience')\n",
    "plt.xlabel('Experience')\n",
    "plt.show()"
   ]
  },
  {
   "cell_type": "code",
   "execution_count": null,
   "metadata": {},
   "outputs": [],
   "source": [
    "import seaborn as sns\n",
    "\n",
    "sns.scatterplot(df_analysts['experience_years'], df_analysts['avg_sallary'], alpha=0.5)"
   ]
  },
  {
   "cell_type": "code",
   "execution_count": null,
   "metadata": {
    "scrolled": true
   },
   "outputs": [],
   "source": [
    "# plot scatter plot\n",
    "groups = df.groupby('gender')\n",
    "\n",
    "fig, ax = plt.subplots()\n",
    "for name, group in groups:\n",
    "    print(name)\n",
    "    ax.plot(group.experience_years, group.avg_sallary,marker='.', linestyle='', ms=12, label=name, alpha=0.5)\n",
    "ax.legend(numpoints=1, loc='upper left')\n",
    "ax.set_xlabel(\"Years of experience\")\n",
    "ax.set_ylabel(\"Salary\")\n",
    "\n",
    "for name, group in groups:\n",
    "    group.plot.scatter(y='avg_sallary', x='experience_years', alpha=0.5) # plot scatter \n",
    "    plt.title(name)"
   ]
  },
  {
   "cell_type": "code",
   "execution_count": 34,
   "metadata": {
    "scrolled": false
   },
   "outputs": [
    {
     "name": "stdout",
     "output_type": "stream",
     "text": [
      "                  experience_years  avg_sallary\n",
      "experience_years                               \n",
      "(0, 1]                        1.00        15.13\n",
      "(1, 3]                        2.50        17.79\n",
      "(3, 6]                        4.83        22.64\n",
      "(6, 20]                      10.48        26.26        experience_years  avg_sallary\n",
      "count              4.00         4.00\n",
      "mean               4.70        20.45\n",
      "std                4.16         4.96\n",
      "min                1.00        15.13\n",
      "25%                2.12        17.12\n",
      "50%                3.67        20.21\n",
      "75%                6.24        23.54\n",
      "max               10.48        26.26\n"
     ]
    }
   ],
   "source": [
    "df2 = df.groupby(pd.cut(df[\"experience_years\"], [0,1,3,6,20])).mean()\n",
    "df3 = df2[[\"experience_years\", \"avg_sallary\",]]\n",
    "print(df3,df3.describe())\n"
   ]
  },
  {
   "cell_type": "code",
   "execution_count": 35,
   "metadata": {},
   "outputs": [
    {
     "name": "stdout",
     "output_type": "stream",
     "text": [
      "experience_years   4.16\n",
      "avg_sallary        4.96\n",
      "dtype: float64\n"
     ]
    }
   ],
   "source": [
    " print(df3.std())"
   ]
  },
  {
   "cell_type": "code",
   "execution_count": null,
   "metadata": {
    "scrolled": true
   },
   "outputs": [],
   "source": [
    "plt.scatter(df2['experience_years'], df2['avg_sallary'])\n",
    "plt.title('avg_sallary - Experience')\n",
    "plt.xlabel('Experience')\n",
    "plt.show()"
   ]
  },
  {
   "cell_type": "code",
   "execution_count": null,
   "metadata": {
    "scrolled": true
   },
   "outputs": [],
   "source": [
    "#\n",
    "df1_1 = df[[\"experience_years\", \"avg_sallary\"]]\n",
    "df1_1"
   ]
  },
  {
   "cell_type": "code",
   "execution_count": null,
   "metadata": {
    "scrolled": false
   },
   "outputs": [],
   "source": [
    "#df1_1.groupby(pd.cut(df[\"experience_years\"], [0,1,3,6,20])).mean()\n",
    "#df1_1.groupby(pd.cut(df[\"experience_years\"], [0,1,3,6,20])).aggregate([np.average, np.median, max, np.std, np.count_nonzero])\n",
    "df1_1[\"avg_sallary\"].groupby(pd.cut(df[\"experience_years\"], [0,1,3,6,20])).aggregate([np.average, np.median, max, np.std, np.count_nonzero])\n"
   ]
  },
  {
   "cell_type": "code",
   "execution_count": null,
   "metadata": {},
   "outputs": [],
   "source": [
    "# analysts by gender \n",
    "# creating a new df\n",
    "df1_gender = df_analysts[[\"experience_years\", \"avg_sallary\", \"gender\"]]\n",
    "#df1_gender"
   ]
  },
  {
   "cell_type": "code",
   "execution_count": null,
   "metadata": {
    "scrolled": true
   },
   "outputs": [],
   "source": [
    "df1_gender[\"avg_sallary\"].groupby([pd.cut(df1_gender[\"experience_years\"], [0,1,3,6,20]),df1_gender[\"gender\"]]).aggregate([np.average, np.median, max, np.std, np.count_nonzero])\n"
   ]
  },
  {
   "cell_type": "code",
   "execution_count": null,
   "metadata": {},
   "outputs": [],
   "source": [
    "#managers\n",
    "df1_manager = df[[\"experience_years\", \"avg_sallary\", \"manager\"]]\n",
    "#df1_manager"
   ]
  },
  {
   "cell_type": "code",
   "execution_count": null,
   "metadata": {
    "scrolled": true
   },
   "outputs": [],
   "source": [
    "df1_manager[\"avg_sallary\"].groupby([pd.cut(df1_manager[\"experience_years\"], [0,1,3,6,20]),df1_manager[\"manager\"]]).aggregate([np.average, np.median, max, np.std, np.count_nonzero])"
   ]
  },
  {
   "cell_type": "code",
   "execution_count": null,
   "metadata": {},
   "outputs": [],
   "source": [
    "# how many people each experience year included?\n",
    "pd.cut(df[\"experience_years\"], [0,1,3,6,20]).describe()\n",
    "# top 1-3 years"
   ]
  },
  {
   "cell_type": "code",
   "execution_count": null,
   "metadata": {},
   "outputs": [],
   "source": [
    "pd.cut(df[\"experience_years\"], [0,1,3,6,20]).value_counts()"
   ]
  },
  {
   "cell_type": "code",
   "execution_count": null,
   "metadata": {},
   "outputs": [],
   "source": [
    "# df without data scientists \n",
    "df_analysts = df[df['data_science'] == 0]\n",
    "#df_analysts\n",
    "\n",
    "#analyst type\n",
    "df_analysts[['analyst_type']].value_counts()"
   ]
  },
  {
   "cell_type": "code",
   "execution_count": null,
   "metadata": {},
   "outputs": [],
   "source": [
    "#analyst only - analyst type / avg salary\n",
    "#df_analysts[\"avg_sallary\"].groupby([df_analysts[\"analyst_type\"]]).aggregate([np.average, np.median, max, np.std, np.count_nonzero])"
   ]
  },
  {
   "cell_type": "code",
   "execution_count": null,
   "metadata": {},
   "outputs": [],
   "source": [
    "#analyst only - analyst type / avg salary by experience years\n",
    "#df_analysts[\"avg_sallary\"].groupby([df_analysts[\"analyst_type\"], pd.cut(df_analysts[\"experience_years\"], [0,1,3,6,20])]).aggregate([np.average, np.median, max, np.std, np.count_nonzero])"
   ]
  },
  {
   "cell_type": "code",
   "execution_count": null,
   "metadata": {},
   "outputs": [],
   "source": [
    "# analysts avg salary / experience_years\n",
    "df_analysts[\"avg_sallary\"].groupby(df_analysts[\"experience_years\"]).aggregate([np.average, np.median, max, np.std, np.count_nonzero])"
   ]
  },
  {
   "cell_type": "code",
   "execution_count": null,
   "metadata": {},
   "outputs": [],
   "source": [
    "#analysts - experience years / avg.salary by gender\n",
    "\n",
    "df_analysts[\"avg_sallary\"].groupby([df_analysts[\"gender\"], df_analysts[\"experience_years\"]]).aggregate([np.average, np.median, max, np.std, np.count_nonzero])"
   ]
  },
  {
   "cell_type": "code",
   "execution_count": null,
   "metadata": {},
   "outputs": [],
   "source": [
    "#analysts experience years / avg salary\n",
    "df_analysts[\"avg_sallary\"].groupby(df_analysts[\"experience_years\"]).aggregate([np.average, np.median, max, np.std, np.count_nonzero])"
   ]
  },
  {
   "cell_type": "code",
   "execution_count": null,
   "metadata": {},
   "outputs": [],
   "source": [
    "#analysts experience years / avg salary\n",
    "\n",
    "df_analysts[\"avg_sallary\"].groupby([pd.cut(df_analysts[\"experience_years\"], [0,1,3,6,20])]).aggregate([np.average, np.median, max, np.std, np.count_nonzero])"
   ]
  },
  {
   "cell_type": "code",
   "execution_count": null,
   "metadata": {},
   "outputs": [],
   "source": [
    "#analysts managers experience years / avg salary \n",
    "\n",
    "df_analysts[\"avg_sallary\"].groupby([df_analysts[\"manager\"], df_analysts[\"gender\"], df_analysts[\"experience_years\"]]).aggregate([np.average, np.median, max, np.std, np.count_nonzero])"
   ]
  },
  {
   "cell_type": "code",
   "execution_count": null,
   "metadata": {},
   "outputs": [],
   "source": []
  }
 ],
 "metadata": {
  "kernelspec": {
   "display_name": "Python 3",
   "language": "python",
   "name": "python3"
  },
  "language_info": {
   "codemirror_mode": {
    "name": "ipython",
    "version": 3
   },
   "file_extension": ".py",
   "mimetype": "text/x-python",
   "name": "python",
   "nbconvert_exporter": "python",
   "pygments_lexer": "ipython3",
   "version": "3.8.5"
  }
 },
 "nbformat": 4,
 "nbformat_minor": 4
}
