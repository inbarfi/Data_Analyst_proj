{
 "cells": [
  {
   "cell_type": "code",
   "execution_count": 1,
   "metadata": {},
   "outputs": [],
   "source": [
    "import numpy as np\n",
    "import pandas as pd\n",
    "import matplotlib.pyplot as plt\n",
    "\n",
    "pd.set_option('display.max_rows', None)\n",
    "\n",
    "df = pd.read_csv('vis_tools_2020.csv')"
   ]
  },
  {
   "cell_type": "code",
   "execution_count": 2,
   "metadata": {},
   "outputs": [
    {
     "data": {
      "text/plain": [
       "Index(['visualization_tool'], dtype='object')"
      ]
     },
     "execution_count": 2,
     "metadata": {},
     "output_type": "execute_result"
    }
   ],
   "source": [
    "df.columns"
   ]
  },
  {
   "cell_type": "code",
   "execution_count": 3,
   "metadata": {},
   "outputs": [
    {
     "data": {
      "text/plain": [
       "0"
      ]
     },
     "execution_count": 3,
     "metadata": {},
     "output_type": "execute_result"
    }
   ],
   "source": [
    "#remove nulls from visualization_tool\n",
    "df.dropna(axis=0, how=\"any\", thresh=None, subset=['visualization_tool'], inplace=True)\n",
    "df['visualization_tool'].isna().sum()"
   ]
  },
  {
   "cell_type": "code",
   "execution_count": 4,
   "metadata": {
    "scrolled": true
   },
   "outputs": [
    {
     "data": {
      "text/html": [
       "<div>\n",
       "<style scoped>\n",
       "    .dataframe tbody tr th:only-of-type {\n",
       "        vertical-align: middle;\n",
       "    }\n",
       "\n",
       "    .dataframe tbody tr th {\n",
       "        vertical-align: top;\n",
       "    }\n",
       "\n",
       "    .dataframe thead th {\n",
       "        text-align: right;\n",
       "    }\n",
       "</style>\n",
       "<table border=\"1\" class=\"dataframe\">\n",
       "  <thead>\n",
       "    <tr style=\"text-align: right;\">\n",
       "      <th></th>\n",
       "      <th>visualization_tool</th>\n",
       "    </tr>\n",
       "  </thead>\n",
       "  <tbody>\n",
       "    <tr>\n",
       "      <th>count</th>\n",
       "      <td>382</td>\n",
       "    </tr>\n",
       "    <tr>\n",
       "      <th>unique</th>\n",
       "      <td>37</td>\n",
       "    </tr>\n",
       "    <tr>\n",
       "      <th>top</th>\n",
       "      <td>Tableau</td>\n",
       "    </tr>\n",
       "    <tr>\n",
       "      <th>freq</th>\n",
       "      <td>115</td>\n",
       "    </tr>\n",
       "  </tbody>\n",
       "</table>\n",
       "</div>"
      ],
      "text/plain": [
       "       visualization_tool\n",
       "count                 382\n",
       "unique                 37\n",
       "top               Tableau\n",
       "freq                  115"
      ]
     },
     "execution_count": 4,
     "metadata": {},
     "output_type": "execute_result"
    }
   ],
   "source": [
    "df[['visualization_tool']].describe() #top vos tool - Tableau 115/382 30%"
   ]
  },
  {
   "cell_type": "code",
   "execution_count": 5,
   "metadata": {
    "scrolled": true
   },
   "outputs": [
    {
     "data": {
      "text/plain": [
       "visualization_tool       \n",
       "Tableau                      115\n",
       "Power BI                      65\n",
       "Excel                         59\n",
       "Qlik view \\ Qlik sense        27\n",
       "Google Data studio            19\n",
       "Looker                        19\n",
       "Don't use                     18\n",
       "Redash                        17\n",
       "Sisense                        8\n",
       "Python                         6\n",
       "Cognos                         2\n",
       "R                              2\n",
       "Metabase                       1\n",
       "Lumira                         1\n",
       "Kibana                         1\n",
       "splunk                         1\n",
       "Jupyter                        1\n",
       "Oracle biee                    1\n",
       "JMP                            1\n",
       "Elastic                        1\n",
       "Datorama                       1\n",
       "Microstrategy                  1\n",
       "Power BI                       1\n",
       "Plotky                         1\n",
       "Pov                            1\n",
       "google studio                  1\n",
       "Power point                    1\n",
       "Pyramid                        1\n",
       "Qlicksense                     1\n",
       "SAS                            1\n",
       "Superset                       1\n",
       "We developed our own tool      1\n",
       "amplitude                      1\n",
       "aws sagemaker                  1\n",
       "domo                           1\n",
       "ggplot                         1\n",
       "BO                             1\n",
       "dtype: int64"
      ]
     },
     "execution_count": 5,
     "metadata": {},
     "output_type": "execute_result"
    }
   ],
   "source": [
    "#df.value_counts().plot(kind='bar')\n",
    "df.value_counts()"
   ]
  },
  {
   "cell_type": "code",
   "execution_count": null,
   "metadata": {},
   "outputs": [],
   "source": [
    "df.value_counts().to_frame().style.bar()"
   ]
  },
  {
   "cell_type": "code",
   "execution_count": null,
   "metadata": {},
   "outputs": [],
   "source": [
    "#plot graph\n",
    "df.hist()"
   ]
  },
  {
   "cell_type": "code",
   "execution_count": null,
   "metadata": {},
   "outputs": [],
   "source": [
    "df[['using_sql']].describe() #187/239 use SQL"
   ]
  },
  {
   "cell_type": "code",
   "execution_count": null,
   "metadata": {},
   "outputs": [],
   "source": [
    "df[['required_statistic_knowledge']].describe()"
   ]
  },
  {
   "cell_type": "code",
   "execution_count": null,
   "metadata": {},
   "outputs": [],
   "source": [
    "#cleaning \n",
    "\n",
    "df.dropna(axis=0, how=\"any\", thresh=None, subset=['avg_sallary'], inplace=True)\n",
    "# 260 rows (38 rows didnt have salary)\n",
    "df['avg_sallary'].isna().sum()\n",
    "\n",
    "df = df[df['job_percentage'] == 'Full-time']\n",
    "# 247 rows (13 rows didnt have salary)\n",
    "df['job_percentage'].isna().sum()\n",
    "\n",
    "df = df[df['data_analyzing'] == 'Yes']\n",
    "# still 247 rows\n",
    "df['data_analyzing'].isna().sum()\n",
    "\n",
    "#clean people who work at the IDF - since their salary was low \n",
    "df.drop(df[df['company'] == 'IDF'].index, inplace=True)\n",
    "# 239 rows (8 worked at the IDF)"
   ]
  },
  {
   "cell_type": "code",
   "execution_count": null,
   "metadata": {},
   "outputs": [],
   "source": [
    "#SQL\n",
    "df1_sql = df[[\"experience_years\", \"avg_sallary\", \"using_sql\"]]\n",
    "#df1_sql"
   ]
  },
  {
   "cell_type": "code",
   "execution_count": null,
   "metadata": {},
   "outputs": [],
   "source": [
    "df1_sql[\"avg_sallary\"].groupby([pd.cut(df1_sql[\"experience_years\"], [0,1,3,6,20]),df1_sql[\"using_sql\"]]).aggregate([np.average, np.median, max, np.std, np.count_nonzero])"
   ]
  },
  {
   "cell_type": "code",
   "execution_count": null,
   "metadata": {},
   "outputs": [],
   "source": [
    "# common visualization tool\n",
    "df1_visualization_tool = df[\"visualization_tool\"].str.split(',', n=5, expand=True)\n",
    "df1_visualization_tool.astype('string')\n",
    "df1_visualization_tool"
   ]
  },
  {
   "cell_type": "code",
   "execution_count": null,
   "metadata": {},
   "outputs": [],
   "source": [
    "df1_visualization_tool.describe()"
   ]
  },
  {
   "cell_type": "code",
   "execution_count": null,
   "metadata": {},
   "outputs": [],
   "source": [
    "x = df1_visualization_tool.stack()\n",
    "x"
   ]
  },
  {
   "cell_type": "code",
   "execution_count": null,
   "metadata": {},
   "outputs": [],
   "source": [
    "x.columns"
   ]
  },
  {
   "cell_type": "code",
   "execution_count": null,
   "metadata": {},
   "outputs": [],
   "source": [
    "x.drop([0, 1], axis=1)"
   ]
  },
  {
   "cell_type": "code",
   "execution_count": null,
   "metadata": {},
   "outputs": [],
   "source": [
    "#x.iloc[2]\n",
    "x.tolist()"
   ]
  },
  {
   "cell_type": "code",
   "execution_count": null,
   "metadata": {},
   "outputs": [],
   "source": [
    "from statistics import mode\n",
    "mode(x)"
   ]
  },
  {
   "cell_type": "code",
   "execution_count": null,
   "metadata": {},
   "outputs": [],
   "source": [
    "x.count() #322 rows"
   ]
  },
  {
   "cell_type": "code",
   "execution_count": null,
   "metadata": {},
   "outputs": [],
   "source": [
    "df_x = x\n",
    "df_x.describe()"
   ]
  },
  {
   "cell_type": "code",
   "execution_count": null,
   "metadata": {},
   "outputs": [],
   "source": [
    "# df_vis = df.assign(ColumnA = df.Column2.astype(str) + ', ' + \\\n",
    "#   df.Column3.astype(str) + ', ' df.Column4.astype(str) + ', ' \\\n",
    "#   df.Column4.astype(str) + ', ' df.Column5.astype(str))"
   ]
  },
  {
   "cell_type": "code",
   "execution_count": null,
   "metadata": {},
   "outputs": [],
   "source": [
    "# count distinct visualization_tool:\n",
    "name_list = str(df1_visualization_tool[\"visualization_tool\"]).split(',')\n",
    "name_list"
   ]
  },
  {
   "cell_type": "code",
   "execution_count": null,
   "metadata": {},
   "outputs": [],
   "source": [
    "z = name_list.tolist()"
   ]
  },
  {
   "cell_type": "code",
   "execution_count": null,
   "metadata": {},
   "outputs": [],
   "source": [
    "# count distinct visualization_tool:\n",
    "df1_visualization_tool = df1_visualization_tool.astype('string')\n",
    "empty = []\n",
    "#print(np.unique(str(df1_visualization_tool[\"visualization_tool\"]).split(',')))\n",
    "for i in range(len(df1_visualization_tool)):\n",
    "    empty.append(str(df1_visualization_tool.iloc[i]).split(','))\n",
    "\n",
    "print(empty)"
   ]
  },
  {
   "cell_type": "code",
   "execution_count": null,
   "metadata": {},
   "outputs": [],
   "source": [
    "list_plat = [item for sublist in empty for item in sublist]"
   ]
  },
  {
   "cell_type": "code",
   "execution_count": null,
   "metadata": {},
   "outputs": [],
   "source": [
    "list_plat"
   ]
  },
  {
   "cell_type": "code",
   "execution_count": null,
   "metadata": {},
   "outputs": [],
   "source": [
    "# common visualization tool\n",
    "df1_visualization_tool = df[[\"visualization_tool\"]]\n",
    "df1_visualization_tool"
   ]
  },
  {
   "cell_type": "code",
   "execution_count": null,
   "metadata": {},
   "outputs": [],
   "source": [
    "# count distinct visualization_tool:\n",
    "\n",
    "#print(np.unique(str(df1_visualization_tool[\"visualization_tool\"]).split(',')))\n",
    "for i in range(len(df1_visualization_tool)):\n",
    "    \n",
    "    visualization_tool_count=len(np.unique(str(df1_visualization_tool[\"visualization_tool\"]).split(',')))\n",
    "\n",
    "#print(visualization_tool_count)"
   ]
  },
  {
   "cell_type": "code",
   "execution_count": null,
   "metadata": {},
   "outputs": [],
   "source": [
    "df1_visualization_tool.nunique()"
   ]
  },
  {
   "cell_type": "code",
   "execution_count": null,
   "metadata": {},
   "outputs": [],
   "source": [
    "df1_visualization_tool['visualization_tool'].size"
   ]
  },
  {
   "cell_type": "code",
   "execution_count": null,
   "metadata": {},
   "outputs": [],
   "source": [
    "# df_new = df1_visualization_tool.values.tolist()\n",
    "# df_new"
   ]
  },
  {
   "cell_type": "code",
   "execution_count": null,
   "metadata": {},
   "outputs": [],
   "source": [
    "df1_visualization_tool['visualization_tool'][0]\n",
    "#df.loc[row_indexer,column_indexer]"
   ]
  },
  {
   "cell_type": "code",
   "execution_count": null,
   "metadata": {},
   "outputs": [],
   "source": [
    "# visual_list = []\n",
    "# for i in range(230):\n",
    "#     visual_list.append(str(df1_visualization_tool[[\"visualization_tool\"][i]]).split(','))\n",
    "    \n",
    "# print(visual_list)   \n",
    "# df1_visualization_tool['visualization_tool'].value_counts()"
   ]
  },
  {
   "cell_type": "code",
   "execution_count": null,
   "metadata": {},
   "outputs": [],
   "source": [
    "#required_statistic_knowledge\n",
    "df1_required_statistic = df[[\"experience_years\", \"avg_sallary\", \"required_statistic_knowledge\"]]\n",
    "#df1_required_statistic"
   ]
  },
  {
   "cell_type": "code",
   "execution_count": null,
   "metadata": {},
   "outputs": [],
   "source": [
    "df1_required_statistic[\"avg_sallary\"].groupby([pd.cut(df1_required_statistic[\"experience_years\"], [0,1,3,6,20]),df1_required_statistic[\"required_statistic_knowledge\"]]).aggregate([np.average, np.median, max, np.std, np.count_nonzero])"
   ]
  },
  {
   "cell_type": "code",
   "execution_count": null,
   "metadata": {},
   "outputs": [],
   "source": [
    "#predictive models\n",
    "df1_pred_models = df[[\"experience_years\", \"avg_sallary\", \"predictive_models\"]]\n",
    "#df1_pred_models"
   ]
  },
  {
   "cell_type": "code",
   "execution_count": null,
   "metadata": {},
   "outputs": [],
   "source": [
    "df1_pred_models[\"avg_sallary\"].groupby([pd.cut(df1_pred_models[\"experience_years\"], [0,1,3,6,20]),df1_pred_models[\"predictive_models\"]]).aggregate([np.average, np.median, max, np.std, np.count_nonzero])"
   ]
  }
 ],
 "metadata": {
  "kernelspec": {
   "display_name": "Python 3",
   "language": "python",
   "name": "python3"
  },
  "language_info": {
   "codemirror_mode": {
    "name": "ipython",
    "version": 3
   },
   "file_extension": ".py",
   "mimetype": "text/x-python",
   "name": "python",
   "nbconvert_exporter": "python",
   "pygments_lexer": "ipython3",
   "version": "3.8.5"
  }
 },
 "nbformat": 4,
 "nbformat_minor": 4
}
